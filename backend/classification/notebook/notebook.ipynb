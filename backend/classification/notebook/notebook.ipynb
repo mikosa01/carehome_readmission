{
 "cells": [
  {
   "cell_type": "code",
   "execution_count": 1,
   "metadata": {},
   "outputs": [],
   "source": [
    "import pandas as pd \n",
    "import numpy as np\n",
    "import matplotlib.pyplot as plt \n",
    "import seaborn as sns\n"
   ]
  },
  {
   "cell_type": "code",
   "execution_count": 2,
   "metadata": {},
   "outputs": [],
   "source": [
    "data = pd.read_csv(f'../data/raw/data.csv')"
   ]
  },
  {
   "cell_type": "code",
   "execution_count": 3,
   "metadata": {},
   "outputs": [
    {
     "data": {
      "text/plain": [
       "Index(['age', 'gender', 'chronic_conditions', 'previous_hospitalizations',\n",
       "       'mental_health_issues', 'polypharmacy', 'nutritional_status',\n",
       "       'follow_up_completed', 'care_plan_adherence', 'staffing_level',\n",
       "       'family_involvement', 'hospital_acquired_infections',\n",
       "       'discharge_timing', 'readmitted_within_30_days', 'admission_date'],\n",
       "      dtype='object')"
      ]
     },
     "execution_count": 3,
     "metadata": {},
     "output_type": "execute_result"
    }
   ],
   "source": [
    "data.columns"
   ]
  },
  {
   "cell_type": "code",
   "execution_count": 4,
   "metadata": {},
   "outputs": [
    {
     "data": {
      "text/html": [
       "<div>\n",
       "<style scoped>\n",
       "    .dataframe tbody tr th:only-of-type {\n",
       "        vertical-align: middle;\n",
       "    }\n",
       "\n",
       "    .dataframe tbody tr th {\n",
       "        vertical-align: top;\n",
       "    }\n",
       "\n",
       "    .dataframe thead th {\n",
       "        text-align: right;\n",
       "    }\n",
       "</style>\n",
       "<table border=\"1\" class=\"dataframe\">\n",
       "  <thead>\n",
       "    <tr style=\"text-align: right;\">\n",
       "      <th></th>\n",
       "      <th>age</th>\n",
       "      <th>gender</th>\n",
       "      <th>chronic_conditions</th>\n",
       "      <th>previous_hospitalizations</th>\n",
       "      <th>mental_health_issues</th>\n",
       "      <th>polypharmacy</th>\n",
       "      <th>nutritional_status</th>\n",
       "      <th>follow_up_completed</th>\n",
       "      <th>care_plan_adherence</th>\n",
       "      <th>staffing_level</th>\n",
       "      <th>family_involvement</th>\n",
       "      <th>hospital_acquired_infections</th>\n",
       "      <th>discharge_timing</th>\n",
       "      <th>readmitted_within_30_days</th>\n",
       "      <th>admission_date</th>\n",
       "    </tr>\n",
       "  </thead>\n",
       "  <tbody>\n",
       "    <tr>\n",
       "      <th>0</th>\n",
       "      <td>93.0</td>\n",
       "      <td>Female</td>\n",
       "      <td>NaN</td>\n",
       "      <td>8.0</td>\n",
       "      <td>No</td>\n",
       "      <td>Yes</td>\n",
       "      <td>NaN</td>\n",
       "      <td>No</td>\n",
       "      <td>High</td>\n",
       "      <td>Adequate</td>\n",
       "      <td>Active</td>\n",
       "      <td>Yes</td>\n",
       "      <td>Weekday</td>\n",
       "      <td>0</td>\n",
       "      <td>2023-09-28</td>\n",
       "    </tr>\n",
       "    <tr>\n",
       "      <th>1</th>\n",
       "      <td>79.0</td>\n",
       "      <td>Female</td>\n",
       "      <td>2.0</td>\n",
       "      <td>7.0</td>\n",
       "      <td>Yes</td>\n",
       "      <td>Yes</td>\n",
       "      <td>NaN</td>\n",
       "      <td>Yes</td>\n",
       "      <td>High</td>\n",
       "      <td>Adequate</td>\n",
       "      <td>Moderate</td>\n",
       "      <td>No</td>\n",
       "      <td>Weekday</td>\n",
       "      <td>0</td>\n",
       "      <td>2023-07-30</td>\n",
       "    </tr>\n",
       "    <tr>\n",
       "      <th>2</th>\n",
       "      <td>72.0</td>\n",
       "      <td>Female</td>\n",
       "      <td>0.0</td>\n",
       "      <td>NaN</td>\n",
       "      <td>No</td>\n",
       "      <td>No</td>\n",
       "      <td>Good</td>\n",
       "      <td>Yes</td>\n",
       "      <td>High</td>\n",
       "      <td>Adequate</td>\n",
       "      <td>Moderate</td>\n",
       "      <td>No</td>\n",
       "      <td>Weekend</td>\n",
       "      <td>0</td>\n",
       "      <td>2023-03-12</td>\n",
       "    </tr>\n",
       "    <tr>\n",
       "      <th>3</th>\n",
       "      <td>85.0</td>\n",
       "      <td>Male</td>\n",
       "      <td>NaN</td>\n",
       "      <td>5.0</td>\n",
       "      <td>No</td>\n",
       "      <td>Yes</td>\n",
       "      <td>Poor</td>\n",
       "      <td>No</td>\n",
       "      <td>NaN</td>\n",
       "      <td>Adequate</td>\n",
       "      <td>Inactive</td>\n",
       "      <td>No</td>\n",
       "      <td>Weekday</td>\n",
       "      <td>0</td>\n",
       "      <td>2023-05-15</td>\n",
       "    </tr>\n",
       "    <tr>\n",
       "      <th>4</th>\n",
       "      <td>NaN</td>\n",
       "      <td>Male</td>\n",
       "      <td>NaN</td>\n",
       "      <td>3.0</td>\n",
       "      <td>No</td>\n",
       "      <td>No</td>\n",
       "      <td>Moderate</td>\n",
       "      <td>Yes</td>\n",
       "      <td>High</td>\n",
       "      <td>Adequate</td>\n",
       "      <td>Moderate</td>\n",
       "      <td>No</td>\n",
       "      <td>Weekend</td>\n",
       "      <td>1</td>\n",
       "      <td>2023-10-30</td>\n",
       "    </tr>\n",
       "  </tbody>\n",
       "</table>\n",
       "</div>"
      ],
      "text/plain": [
       "    age  gender  chronic_conditions  previous_hospitalizations  \\\n",
       "0  93.0  Female                 NaN                        8.0   \n",
       "1  79.0  Female                 2.0                        7.0   \n",
       "2  72.0  Female                 0.0                        NaN   \n",
       "3  85.0    Male                 NaN                        5.0   \n",
       "4   NaN    Male                 NaN                        3.0   \n",
       "\n",
       "  mental_health_issues polypharmacy nutritional_status follow_up_completed  \\\n",
       "0                   No          Yes                NaN                  No   \n",
       "1                  Yes          Yes                NaN                 Yes   \n",
       "2                   No           No               Good                 Yes   \n",
       "3                   No          Yes               Poor                  No   \n",
       "4                   No           No           Moderate                 Yes   \n",
       "\n",
       "  care_plan_adherence staffing_level family_involvement  \\\n",
       "0                High       Adequate             Active   \n",
       "1                High       Adequate           Moderate   \n",
       "2                High       Adequate           Moderate   \n",
       "3                 NaN       Adequate           Inactive   \n",
       "4                High       Adequate           Moderate   \n",
       "\n",
       "  hospital_acquired_infections discharge_timing  readmitted_within_30_days  \\\n",
       "0                          Yes          Weekday                          0   \n",
       "1                           No          Weekday                          0   \n",
       "2                           No          Weekend                          0   \n",
       "3                           No          Weekday                          0   \n",
       "4                           No          Weekend                          1   \n",
       "\n",
       "  admission_date  \n",
       "0     2023-09-28  \n",
       "1     2023-07-30  \n",
       "2     2023-03-12  \n",
       "3     2023-05-15  \n",
       "4     2023-10-30  "
      ]
     },
     "execution_count": 4,
     "metadata": {},
     "output_type": "execute_result"
    }
   ],
   "source": [
    "data.head()"
   ]
  },
  {
   "cell_type": "code",
   "execution_count": 5,
   "metadata": {},
   "outputs": [],
   "source": [
    "df = data.copy()"
   ]
  },
  {
   "cell_type": "code",
   "execution_count": 6,
   "metadata": {},
   "outputs": [
    {
     "name": "stdout",
     "output_type": "stream",
     "text": [
      "<class 'pandas.core.frame.DataFrame'>\n",
      "RangeIndex: 1000000 entries, 0 to 999999\n",
      "Data columns (total 15 columns):\n",
      " #   Column                        Non-Null Count    Dtype  \n",
      "---  ------                        --------------    -----  \n",
      " 0   age                           700000 non-null   float64\n",
      " 1   gender                        1000000 non-null  object \n",
      " 2   chronic_conditions            700000 non-null   float64\n",
      " 3   previous_hospitalizations     700000 non-null   float64\n",
      " 4   mental_health_issues          1000000 non-null  object \n",
      " 5   polypharmacy                  1000000 non-null  object \n",
      " 6   nutritional_status            700000 non-null   object \n",
      " 7   follow_up_completed           1000000 non-null  object \n",
      " 8   care_plan_adherence           700000 non-null   object \n",
      " 9   staffing_level                1000000 non-null  object \n",
      " 10  family_involvement            1000000 non-null  object \n",
      " 11  hospital_acquired_infections  1000000 non-null  object \n",
      " 12  discharge_timing              1000000 non-null  object \n",
      " 13  readmitted_within_30_days     1000000 non-null  int64  \n",
      " 14  admission_date                1000000 non-null  object \n",
      "dtypes: float64(3), int64(1), object(11)\n",
      "memory usage: 114.4+ MB\n"
     ]
    }
   ],
   "source": [
    "data.info()"
   ]
  },
  {
   "cell_type": "code",
   "execution_count": 7,
   "metadata": {},
   "outputs": [],
   "source": [
    "data['admission_date'] = pd.to_datetime(data['admission_date'])"
   ]
  },
  {
   "cell_type": "code",
   "execution_count": 8,
   "metadata": {},
   "outputs": [
    {
     "name": "stdout",
     "output_type": "stream",
     "text": [
      "<class 'pandas.core.frame.DataFrame'>\n",
      "RangeIndex: 1000000 entries, 0 to 999999\n",
      "Data columns (total 15 columns):\n",
      " #   Column                        Non-Null Count    Dtype         \n",
      "---  ------                        --------------    -----         \n",
      " 0   age                           700000 non-null   float64       \n",
      " 1   gender                        1000000 non-null  object        \n",
      " 2   chronic_conditions            700000 non-null   float64       \n",
      " 3   previous_hospitalizations     700000 non-null   float64       \n",
      " 4   mental_health_issues          1000000 non-null  object        \n",
      " 5   polypharmacy                  1000000 non-null  object        \n",
      " 6   nutritional_status            700000 non-null   object        \n",
      " 7   follow_up_completed           1000000 non-null  object        \n",
      " 8   care_plan_adherence           700000 non-null   object        \n",
      " 9   staffing_level                1000000 non-null  object        \n",
      " 10  family_involvement            1000000 non-null  object        \n",
      " 11  hospital_acquired_infections  1000000 non-null  object        \n",
      " 12  discharge_timing              1000000 non-null  object        \n",
      " 13  readmitted_within_30_days     1000000 non-null  int64         \n",
      " 14  admission_date                1000000 non-null  datetime64[ns]\n",
      "dtypes: datetime64[ns](1), float64(3), int64(1), object(10)\n",
      "memory usage: 114.4+ MB\n"
     ]
    }
   ],
   "source": [
    "data.info()"
   ]
  },
  {
   "cell_type": "code",
   "execution_count": 9,
   "metadata": {},
   "outputs": [
    {
     "data": {
      "text/html": [
       "<div>\n",
       "<style scoped>\n",
       "    .dataframe tbody tr th:only-of-type {\n",
       "        vertical-align: middle;\n",
       "    }\n",
       "\n",
       "    .dataframe tbody tr th {\n",
       "        vertical-align: top;\n",
       "    }\n",
       "\n",
       "    .dataframe thead th {\n",
       "        text-align: right;\n",
       "    }\n",
       "</style>\n",
       "<table border=\"1\" class=\"dataframe\">\n",
       "  <thead>\n",
       "    <tr style=\"text-align: right;\">\n",
       "      <th></th>\n",
       "      <th>age</th>\n",
       "      <th>gender</th>\n",
       "      <th>chronic_conditions</th>\n",
       "      <th>previous_hospitalizations</th>\n",
       "      <th>mental_health_issues</th>\n",
       "      <th>polypharmacy</th>\n",
       "      <th>nutritional_status</th>\n",
       "      <th>follow_up_completed</th>\n",
       "      <th>care_plan_adherence</th>\n",
       "      <th>staffing_level</th>\n",
       "      <th>family_involvement</th>\n",
       "      <th>hospital_acquired_infections</th>\n",
       "      <th>discharge_timing</th>\n",
       "      <th>readmitted_within_30_days</th>\n",
       "      <th>admission_date</th>\n",
       "    </tr>\n",
       "  </thead>\n",
       "  <tbody>\n",
       "    <tr>\n",
       "      <th>0</th>\n",
       "      <td>93.0</td>\n",
       "      <td>Female</td>\n",
       "      <td>NaN</td>\n",
       "      <td>8.0</td>\n",
       "      <td>No</td>\n",
       "      <td>Yes</td>\n",
       "      <td>NaN</td>\n",
       "      <td>No</td>\n",
       "      <td>High</td>\n",
       "      <td>Adequate</td>\n",
       "      <td>Active</td>\n",
       "      <td>Yes</td>\n",
       "      <td>Weekday</td>\n",
       "      <td>0</td>\n",
       "      <td>2023-09-28</td>\n",
       "    </tr>\n",
       "    <tr>\n",
       "      <th>1</th>\n",
       "      <td>79.0</td>\n",
       "      <td>Female</td>\n",
       "      <td>2.0</td>\n",
       "      <td>7.0</td>\n",
       "      <td>Yes</td>\n",
       "      <td>Yes</td>\n",
       "      <td>NaN</td>\n",
       "      <td>Yes</td>\n",
       "      <td>High</td>\n",
       "      <td>Adequate</td>\n",
       "      <td>Moderate</td>\n",
       "      <td>No</td>\n",
       "      <td>Weekday</td>\n",
       "      <td>0</td>\n",
       "      <td>2023-07-30</td>\n",
       "    </tr>\n",
       "    <tr>\n",
       "      <th>2</th>\n",
       "      <td>72.0</td>\n",
       "      <td>Female</td>\n",
       "      <td>0.0</td>\n",
       "      <td>NaN</td>\n",
       "      <td>No</td>\n",
       "      <td>No</td>\n",
       "      <td>Good</td>\n",
       "      <td>Yes</td>\n",
       "      <td>High</td>\n",
       "      <td>Adequate</td>\n",
       "      <td>Moderate</td>\n",
       "      <td>No</td>\n",
       "      <td>Weekend</td>\n",
       "      <td>0</td>\n",
       "      <td>2023-03-12</td>\n",
       "    </tr>\n",
       "    <tr>\n",
       "      <th>3</th>\n",
       "      <td>85.0</td>\n",
       "      <td>Male</td>\n",
       "      <td>NaN</td>\n",
       "      <td>5.0</td>\n",
       "      <td>No</td>\n",
       "      <td>Yes</td>\n",
       "      <td>Poor</td>\n",
       "      <td>No</td>\n",
       "      <td>NaN</td>\n",
       "      <td>Adequate</td>\n",
       "      <td>Inactive</td>\n",
       "      <td>No</td>\n",
       "      <td>Weekday</td>\n",
       "      <td>0</td>\n",
       "      <td>2023-05-15</td>\n",
       "    </tr>\n",
       "    <tr>\n",
       "      <th>4</th>\n",
       "      <td>NaN</td>\n",
       "      <td>Male</td>\n",
       "      <td>NaN</td>\n",
       "      <td>3.0</td>\n",
       "      <td>No</td>\n",
       "      <td>No</td>\n",
       "      <td>Moderate</td>\n",
       "      <td>Yes</td>\n",
       "      <td>High</td>\n",
       "      <td>Adequate</td>\n",
       "      <td>Moderate</td>\n",
       "      <td>No</td>\n",
       "      <td>Weekend</td>\n",
       "      <td>1</td>\n",
       "      <td>2023-10-30</td>\n",
       "    </tr>\n",
       "  </tbody>\n",
       "</table>\n",
       "</div>"
      ],
      "text/plain": [
       "    age  gender  chronic_conditions  previous_hospitalizations  \\\n",
       "0  93.0  Female                 NaN                        8.0   \n",
       "1  79.0  Female                 2.0                        7.0   \n",
       "2  72.0  Female                 0.0                        NaN   \n",
       "3  85.0    Male                 NaN                        5.0   \n",
       "4   NaN    Male                 NaN                        3.0   \n",
       "\n",
       "  mental_health_issues polypharmacy nutritional_status follow_up_completed  \\\n",
       "0                   No          Yes                NaN                  No   \n",
       "1                  Yes          Yes                NaN                 Yes   \n",
       "2                   No           No               Good                 Yes   \n",
       "3                   No          Yes               Poor                  No   \n",
       "4                   No           No           Moderate                 Yes   \n",
       "\n",
       "  care_plan_adherence staffing_level family_involvement  \\\n",
       "0                High       Adequate             Active   \n",
       "1                High       Adequate           Moderate   \n",
       "2                High       Adequate           Moderate   \n",
       "3                 NaN       Adequate           Inactive   \n",
       "4                High       Adequate           Moderate   \n",
       "\n",
       "  hospital_acquired_infections discharge_timing  readmitted_within_30_days  \\\n",
       "0                          Yes          Weekday                          0   \n",
       "1                           No          Weekday                          0   \n",
       "2                           No          Weekend                          0   \n",
       "3                           No          Weekday                          0   \n",
       "4                           No          Weekend                          1   \n",
       "\n",
       "  admission_date  \n",
       "0     2023-09-28  \n",
       "1     2023-07-30  \n",
       "2     2023-03-12  \n",
       "3     2023-05-15  \n",
       "4     2023-10-30  "
      ]
     },
     "execution_count": 9,
     "metadata": {},
     "output_type": "execute_result"
    }
   ],
   "source": [
    "data.head()"
   ]
  },
  {
   "cell_type": "code",
   "execution_count": 10,
   "metadata": {},
   "outputs": [
    {
     "data": {
      "text/plain": [
       "0        2023-09-28\n",
       "1        2023-07-30\n",
       "2        2023-03-12\n",
       "3        2023-05-15\n",
       "4        2023-10-30\n",
       "            ...    \n",
       "999995   2023-09-14\n",
       "999996   2023-06-19\n",
       "999997   2023-04-16\n",
       "999998   2023-12-17\n",
       "999999   2023-08-08\n",
       "Name: admission_date, Length: 1000000, dtype: datetime64[ns]"
      ]
     },
     "execution_count": 10,
     "metadata": {},
     "output_type": "execute_result"
    }
   ],
   "source": [
    "data['admission_date']"
   ]
  },
  {
   "cell_type": "code",
   "execution_count": 11,
   "metadata": {},
   "outputs": [
    {
     "data": {
      "text/plain": [
       "age                                    float64\n",
       "gender                                  object\n",
       "chronic_conditions                     float64\n",
       "previous_hospitalizations              float64\n",
       "mental_health_issues                    object\n",
       "polypharmacy                            object\n",
       "nutritional_status                      object\n",
       "follow_up_completed                     object\n",
       "care_plan_adherence                     object\n",
       "staffing_level                          object\n",
       "family_involvement                      object\n",
       "hospital_acquired_infections            object\n",
       "discharge_timing                        object\n",
       "readmitted_within_30_days                int64\n",
       "admission_date                  datetime64[ns]\n",
       "dtype: object"
      ]
     },
     "execution_count": 11,
     "metadata": {},
     "output_type": "execute_result"
    }
   ],
   "source": [
    "data.dtypes"
   ]
  },
  {
   "cell_type": "code",
   "execution_count": 12,
   "metadata": {},
   "outputs": [],
   "source": [
    "num_cols = [col for col in data.columns if data[col].dtype in ['int64', 'float64'] and data[col].nunique() >= 20 and col != 'resident_id' ]\n",
    "cat_cols = [col for col in data.columns if data[col].dtype == 'object']\n",
    "dis_cols = [col for col in data.columns if data[col].dtype in ['int64', 'float64'] and data[col].nunique() <= 20 and col != 'readmitted_within_30_days']\n",
    "date_col = [col for col in data.columns if data[col].dtype == 'datetime64[ns]']\n"
   ]
  },
  {
   "cell_type": "code",
   "execution_count": 13,
   "metadata": {},
   "outputs": [
    {
     "data": {
      "text/plain": [
       "['admission_date']"
      ]
     },
     "execution_count": 13,
     "metadata": {},
     "output_type": "execute_result"
    }
   ],
   "source": [
    "num_cols ; cat_cols ; dis_cols ; date_col"
   ]
  },
  {
   "cell_type": "code",
   "execution_count": 14,
   "metadata": {},
   "outputs": [
    {
     "data": {
      "image/png": "[encoded data removed]",
      "text/plain": [
       "<Figure size 2000x500 with 10 Axes>"
      ]
     },
     "metadata": {},
     "output_type": "display_data"
    }
   ],
   "source": [
    "fig, ax = plt.subplots(nrows = 1, ncols=len(cat_cols), figsize = (20, 5))\n",
    "for id, col in enumerate(cat_cols):\n",
    "    sns.countplot(x = col, data=data, ax=ax[id])\n",
    "    ax[id].set_yticks(ax[id].get_yticks())\n",
    "    ax[id].tick_params(axis='y', labelsize=10)\n",
    "    ax[id].tick_params(axis='x', labelsize=10, rotation=60)\n",
    "    ax[id].set_title(f'{col} distribution', fontsize=8)\n",
    "    ax[id].set_ylabel('Frequency', fontsize=8)\n",
    "\n",
    "plt.tight_layout()"
   ]
  },
  {
   "cell_type": "code",
   "execution_count": 15,
   "metadata": {},
   "outputs": [
    {
     "data": {
      "text/plain": [
       "gender                               0\n",
       "mental_health_issues                 0\n",
       "polypharmacy                         0\n",
       "nutritional_status              300000\n",
       "follow_up_completed                  0\n",
       "care_plan_adherence             300000\n",
       "staffing_level                       0\n",
       "family_involvement                   0\n",
       "hospital_acquired_infections         0\n",
       "discharge_timing                     0\n",
       "dtype: int64"
      ]
     },
     "execution_count": 15,
     "metadata": {},
     "output_type": "execute_result"
    }
   ],
   "source": [
    "data[cat_cols].isna().sum()"
   ]
  },
  {
   "cell_type": "code",
   "execution_count": 16,
   "metadata": {},
   "outputs": [],
   "source": [
    "for col in cat_cols:\n",
    "    modal_val = data[col].mode()[0]\n",
    "    data[col] = data[col].fillna(modal_val)"
   ]
  },
  {
   "cell_type": "code",
   "execution_count": 17,
   "metadata": {},
   "outputs": [
    {
     "name": "stderr",
     "output_type": "stream",
     "text": [
      "/var/folders/kf/yv1zrfvd701c47vqp5xz4sjh0000gn/T/ipykernel_85165/1383423425.py:1: FutureWarning: Series.__getitem__ treating keys as positions is deprecated. In a future version, integer keys will always be treated as labels (consistent with DataFrame behavior). To access a value by position, use `ser.iloc[pos]`\n",
      "  data['gender'].value_counts()[1]\n"
     ]
    },
    {
     "data": {
      "text/plain": [
       "np.int64(399803)"
      ]
     },
     "execution_count": 17,
     "metadata": {},
     "output_type": "execute_result"
    }
   ],
   "source": [
    "data['gender'].value_counts()[1]"
   ]
  },
  {
   "cell_type": "code",
   "execution_count": 18,
   "metadata": {},
   "outputs": [],
   "source": [
    "# Initialize an empty dictionary to store the encoding mappings for categorical columns\n",
    "encoding = {}\n",
    "\n",
    "# Loop through each categorical column in the dataset\n",
    "for col in cat_cols:\n",
    "    # Get the normalized value counts of the categorical column, sorted in descending order\n",
    "    val_counts = data[col].value_counts(normalize=True, ascending=False).items()\n",
    "    # Create an encoding dictionary for the column, mapping each category to an index starting from 1\n",
    "    encoding[col] = {category: idx for idx, (category, _) in enumerate(val_counts, 0)}\n",
    "    # Map the categories in the column to the corresponding indices\n",
    "    data[col] = data[col].map(encoding[col])"
   ]
  },
  {
   "cell_type": "code",
   "execution_count": 19,
   "metadata": {},
   "outputs": [
    {
     "data": {
      "text/html": [
       "<div>\n",
       "<style scoped>\n",
       "    .dataframe tbody tr th:only-of-type {\n",
       "        vertical-align: middle;\n",
       "    }\n",
       "\n",
       "    .dataframe tbody tr th {\n",
       "        vertical-align: top;\n",
       "    }\n",
       "\n",
       "    .dataframe thead th {\n",
       "        text-align: right;\n",
       "    }\n",
       "</style>\n",
       "<table border=\"1\" class=\"dataframe\">\n",
       "  <thead>\n",
       "    <tr style=\"text-align: right;\">\n",
       "      <th></th>\n",
       "      <th>gender</th>\n",
       "      <th>mental_health_issues</th>\n",
       "      <th>polypharmacy</th>\n",
       "      <th>nutritional_status</th>\n",
       "      <th>follow_up_completed</th>\n",
       "      <th>care_plan_adherence</th>\n",
       "      <th>staffing_level</th>\n",
       "      <th>family_involvement</th>\n",
       "      <th>hospital_acquired_infections</th>\n",
       "      <th>discharge_timing</th>\n",
       "    </tr>\n",
       "  </thead>\n",
       "  <tbody>\n",
       "    <tr>\n",
       "      <th>0</th>\n",
       "      <td>0</td>\n",
       "      <td>0</td>\n",
       "      <td>1</td>\n",
       "      <td>0</td>\n",
       "      <td>1</td>\n",
       "      <td>0</td>\n",
       "      <td>0</td>\n",
       "      <td>0</td>\n",
       "      <td>1</td>\n",
       "      <td>0</td>\n",
       "    </tr>\n",
       "    <tr>\n",
       "      <th>1</th>\n",
       "      <td>0</td>\n",
       "      <td>1</td>\n",
       "      <td>1</td>\n",
       "      <td>0</td>\n",
       "      <td>0</td>\n",
       "      <td>0</td>\n",
       "      <td>0</td>\n",
       "      <td>1</td>\n",
       "      <td>0</td>\n",
       "      <td>0</td>\n",
       "    </tr>\n",
       "    <tr>\n",
       "      <th>2</th>\n",
       "      <td>0</td>\n",
       "      <td>0</td>\n",
       "      <td>0</td>\n",
       "      <td>0</td>\n",
       "      <td>0</td>\n",
       "      <td>0</td>\n",
       "      <td>0</td>\n",
       "      <td>1</td>\n",
       "      <td>0</td>\n",
       "      <td>1</td>\n",
       "    </tr>\n",
       "    <tr>\n",
       "      <th>3</th>\n",
       "      <td>1</td>\n",
       "      <td>0</td>\n",
       "      <td>1</td>\n",
       "      <td>2</td>\n",
       "      <td>1</td>\n",
       "      <td>0</td>\n",
       "      <td>0</td>\n",
       "      <td>2</td>\n",
       "      <td>0</td>\n",
       "      <td>0</td>\n",
       "    </tr>\n",
       "    <tr>\n",
       "      <th>4</th>\n",
       "      <td>1</td>\n",
       "      <td>0</td>\n",
       "      <td>0</td>\n",
       "      <td>1</td>\n",
       "      <td>0</td>\n",
       "      <td>0</td>\n",
       "      <td>0</td>\n",
       "      <td>1</td>\n",
       "      <td>0</td>\n",
       "      <td>1</td>\n",
       "    </tr>\n",
       "  </tbody>\n",
       "</table>\n",
       "</div>"
      ],
      "text/plain": [
       "   gender  mental_health_issues  polypharmacy  nutritional_status  \\\n",
       "0       0                     0             1                   0   \n",
       "1       0                     1             1                   0   \n",
       "2       0                     0             0                   0   \n",
       "3       1                     0             1                   2   \n",
       "4       1                     0             0                   1   \n",
       "\n",
       "   follow_up_completed  care_plan_adherence  staffing_level  \\\n",
       "0                    1                    0               0   \n",
       "1                    0                    0               0   \n",
       "2                    0                    0               0   \n",
       "3                    1                    0               0   \n",
       "4                    0                    0               0   \n",
       "\n",
       "   family_involvement  hospital_acquired_infections  discharge_timing  \n",
       "0                   0                             1                 0  \n",
       "1                   1                             0                 0  \n",
       "2                   1                             0                 1  \n",
       "3                   2                             0                 0  \n",
       "4                   1                             0                 1  "
      ]
     },
     "execution_count": 19,
     "metadata": {},
     "output_type": "execute_result"
    }
   ],
   "source": [
    "data[cat_cols].head()"
   ]
  },
  {
   "cell_type": "code",
   "execution_count": null,
   "metadata": {},
   "outputs": [],
   "source": []
  },
  {
   "cell_type": "code",
   "execution_count": 20,
   "metadata": {},
   "outputs": [
    {
     "data": {
      "text/plain": [
       "Text(0.5, 1.0, 'Age Distribution of Residents')"
      ]
     },
     "execution_count": 20,
     "metadata": {},
     "output_type": "execute_result"
    },
    {
     "data": {
      "image/png": "[encoded data removed]",
      "text/plain": [
       "<Figure size 640x480 with 1 Axes>"
      ]
     },
     "metadata": {},
     "output_type": "display_data"
    }
   ],
   "source": [
    "sns.kdeplot(x = 'age', data= data)\n",
    "plt.title('Age Distribution of Residents')"
   ]
  },
  {
   "cell_type": "code",
   "execution_count": 21,
   "metadata": {},
   "outputs": [
    {
     "data": {
      "text/plain": [
       "<Axes: xlabel='age'>"
      ]
     },
     "execution_count": 21,
     "metadata": {},
     "output_type": "execute_result"
    },
    {
     "data": {
      "image/png": "[encoded data removed]",
      "text/plain": [
       "<Figure size 640x480 with 1 Axes>"
      ]
     },
     "metadata": {},
     "output_type": "display_data"
    }
   ],
   "source": [
    "sns.boxplot(x='age', data=data)"
   ]
  },
  {
   "cell_type": "code",
   "execution_count": 22,
   "metadata": {},
   "outputs": [
    {
     "data": {
      "text/plain": [
       "np.int64(300000)"
      ]
     },
     "execution_count": 22,
     "metadata": {},
     "output_type": "execute_result"
    }
   ],
   "source": [
    "data['age'].isna().sum()"
   ]
  },
  {
   "cell_type": "code",
   "execution_count": 23,
   "metadata": {},
   "outputs": [],
   "source": [
    "data['age'] = data['age'].fillna(data['age'].mean())"
   ]
  },
  {
   "cell_type": "code",
   "execution_count": null,
   "metadata": {},
   "outputs": [],
   "source": []
  },
  {
   "cell_type": "code",
   "execution_count": 24,
   "metadata": {},
   "outputs": [
    {
     "data": {
      "image/png": "[encoded data removed]",
      "text/plain": [
       "<Figure size 2000x500 with 2 Axes>"
      ]
     },
     "metadata": {},
     "output_type": "display_data"
    }
   ],
   "source": [
    "fig, ax = plt.subplots(nrows = 1, ncols=len(dis_cols), figsize = (20, 5))\n",
    "for id, col in enumerate(dis_cols):\n",
    "    sns.countplot(x = col, data=data, ax=ax[id])\n",
    "    ax[id].set_yticks(ax[id].get_yticks())\n",
    "    ax[id].tick_params(axis='y', labelsize=10)\n",
    "    ax[id].tick_params(axis='x', labelsize=10, rotation=60)\n",
    "    ax[id].set_title(f'{col} distribution', fontsize=8)\n",
    "    ax[id].set_ylabel('Frequency', fontsize=8)\n",
    "\n",
    "plt.tight_layout()"
   ]
  },
  {
   "cell_type": "code",
   "execution_count": 25,
   "metadata": {},
   "outputs": [
    {
     "data": {
      "text/plain": [
       "chronic_conditions           300000\n",
       "previous_hospitalizations    300000\n",
       "dtype: int64"
      ]
     },
     "execution_count": 25,
     "metadata": {},
     "output_type": "execute_result"
    }
   ],
   "source": [
    "data[dis_cols].isna().sum()"
   ]
  },
  {
   "cell_type": "code",
   "execution_count": 26,
   "metadata": {},
   "outputs": [],
   "source": [
    "for col in dis_cols:\n",
    "    modal_val = data[col].mode()[0]\n",
    "    data[col] = data[col].fillna(modal_val)"
   ]
  },
  {
   "cell_type": "code",
   "execution_count": null,
   "metadata": {},
   "outputs": [],
   "source": []
  },
  {
   "cell_type": "code",
   "execution_count": 27,
   "metadata": {},
   "outputs": [
    {
     "data": {
      "text/plain": [
       "readmitted_within_30_days\n",
       "0    0.70034\n",
       "1    0.29966\n",
       "Name: proportion, dtype: float64"
      ]
     },
     "execution_count": 27,
     "metadata": {},
     "output_type": "execute_result"
    }
   ],
   "source": [
    "data['readmitted_within_30_days'].value_counts(normalize=True)"
   ]
  },
  {
   "cell_type": "code",
   "execution_count": null,
   "metadata": {},
   "outputs": [],
   "source": []
  },
  {
   "cell_type": "code",
   "execution_count": 28,
   "metadata": {},
   "outputs": [
    {
     "data": {
      "text/html": [
       "<div>\n",
       "<style scoped>\n",
       "    .dataframe tbody tr th:only-of-type {\n",
       "        vertical-align: middle;\n",
       "    }\n",
       "\n",
       "    .dataframe tbody tr th {\n",
       "        vertical-align: top;\n",
       "    }\n",
       "\n",
       "    .dataframe thead th {\n",
       "        text-align: right;\n",
       "    }\n",
       "</style>\n",
       "<table border=\"1\" class=\"dataframe\">\n",
       "  <thead>\n",
       "    <tr style=\"text-align: right;\">\n",
       "      <th></th>\n",
       "      <th>age</th>\n",
       "      <th>gender</th>\n",
       "      <th>chronic_conditions</th>\n",
       "      <th>previous_hospitalizations</th>\n",
       "      <th>mental_health_issues</th>\n",
       "      <th>polypharmacy</th>\n",
       "      <th>nutritional_status</th>\n",
       "      <th>follow_up_completed</th>\n",
       "      <th>care_plan_adherence</th>\n",
       "      <th>staffing_level</th>\n",
       "      <th>family_involvement</th>\n",
       "      <th>hospital_acquired_infections</th>\n",
       "      <th>discharge_timing</th>\n",
       "      <th>readmitted_within_30_days</th>\n",
       "      <th>admission_date</th>\n",
       "    </tr>\n",
       "  </thead>\n",
       "  <tbody>\n",
       "    <tr>\n",
       "      <th>0</th>\n",
       "      <td>93.000000</td>\n",
       "      <td>0</td>\n",
       "      <td>1.0</td>\n",
       "      <td>8.0</td>\n",
       "      <td>0</td>\n",
       "      <td>1</td>\n",
       "      <td>0</td>\n",
       "      <td>1</td>\n",
       "      <td>0</td>\n",
       "      <td>0</td>\n",
       "      <td>0</td>\n",
       "      <td>1</td>\n",
       "      <td>0</td>\n",
       "      <td>0</td>\n",
       "      <td>2023-09-28</td>\n",
       "    </tr>\n",
       "    <tr>\n",
       "      <th>1</th>\n",
       "      <td>79.000000</td>\n",
       "      <td>0</td>\n",
       "      <td>2.0</td>\n",
       "      <td>7.0</td>\n",
       "      <td>1</td>\n",
       "      <td>1</td>\n",
       "      <td>0</td>\n",
       "      <td>0</td>\n",
       "      <td>0</td>\n",
       "      <td>0</td>\n",
       "      <td>1</td>\n",
       "      <td>0</td>\n",
       "      <td>0</td>\n",
       "      <td>0</td>\n",
       "      <td>2023-07-30</td>\n",
       "    </tr>\n",
       "    <tr>\n",
       "      <th>2</th>\n",
       "      <td>72.000000</td>\n",
       "      <td>0</td>\n",
       "      <td>0.0</td>\n",
       "      <td>5.0</td>\n",
       "      <td>0</td>\n",
       "      <td>0</td>\n",
       "      <td>0</td>\n",
       "      <td>0</td>\n",
       "      <td>0</td>\n",
       "      <td>0</td>\n",
       "      <td>1</td>\n",
       "      <td>0</td>\n",
       "      <td>1</td>\n",
       "      <td>0</td>\n",
       "      <td>2023-03-12</td>\n",
       "    </tr>\n",
       "    <tr>\n",
       "      <th>3</th>\n",
       "      <td>85.000000</td>\n",
       "      <td>1</td>\n",
       "      <td>1.0</td>\n",
       "      <td>5.0</td>\n",
       "      <td>0</td>\n",
       "      <td>1</td>\n",
       "      <td>2</td>\n",
       "      <td>1</td>\n",
       "      <td>0</td>\n",
       "      <td>0</td>\n",
       "      <td>2</td>\n",
       "      <td>0</td>\n",
       "      <td>0</td>\n",
       "      <td>0</td>\n",
       "      <td>2023-05-15</td>\n",
       "    </tr>\n",
       "    <tr>\n",
       "      <th>4</th>\n",
       "      <td>81.995246</td>\n",
       "      <td>1</td>\n",
       "      <td>1.0</td>\n",
       "      <td>3.0</td>\n",
       "      <td>0</td>\n",
       "      <td>0</td>\n",
       "      <td>1</td>\n",
       "      <td>0</td>\n",
       "      <td>0</td>\n",
       "      <td>0</td>\n",
       "      <td>1</td>\n",
       "      <td>0</td>\n",
       "      <td>1</td>\n",
       "      <td>1</td>\n",
       "      <td>2023-10-30</td>\n",
       "    </tr>\n",
       "  </tbody>\n",
       "</table>\n",
       "</div>"
      ],
      "text/plain": [
       "         age  gender  chronic_conditions  previous_hospitalizations  \\\n",
       "0  93.000000       0                 1.0                        8.0   \n",
       "1  79.000000       0                 2.0                        7.0   \n",
       "2  72.000000       0                 0.0                        5.0   \n",
       "3  85.000000       1                 1.0                        5.0   \n",
       "4  81.995246       1                 1.0                        3.0   \n",
       "\n",
       "   mental_health_issues  polypharmacy  nutritional_status  \\\n",
       "0                     0             1                   0   \n",
       "1                     1             1                   0   \n",
       "2                     0             0                   0   \n",
       "3                     0             1                   2   \n",
       "4                     0             0                   1   \n",
       "\n",
       "   follow_up_completed  care_plan_adherence  staffing_level  \\\n",
       "0                    1                    0               0   \n",
       "1                    0                    0               0   \n",
       "2                    0                    0               0   \n",
       "3                    1                    0               0   \n",
       "4                    0                    0               0   \n",
       "\n",
       "   family_involvement  hospital_acquired_infections  discharge_timing  \\\n",
       "0                   0                             1                 0   \n",
       "1                   1                             0                 0   \n",
       "2                   1                             0                 1   \n",
       "3                   2                             0                 0   \n",
       "4                   1                             0                 1   \n",
       "\n",
       "   readmitted_within_30_days admission_date  \n",
       "0                          0     2023-09-28  \n",
       "1                          0     2023-07-30  \n",
       "2                          0     2023-03-12  \n",
       "3                          0     2023-05-15  \n",
       "4                          1     2023-10-30  "
      ]
     },
     "execution_count": 28,
     "metadata": {},
     "output_type": "execute_result"
    }
   ],
   "source": [
    "data.head()"
   ]
  },
  {
   "cell_type": "code",
   "execution_count": 29,
   "metadata": {},
   "outputs": [],
   "source": [
    "features = cat_cols + dis_cols + num_cols\n",
    "target = 'readmitted_within_30_days'"
   ]
  },
  {
   "cell_type": "code",
   "execution_count": 30,
   "metadata": {},
   "outputs": [],
   "source": [
    "from sklearn.model_selection import train_test_split\n",
    "\n",
    "\n",
    "x_train, x_test, y_train, y_test = train_test_split(data[features], data[target], test_size=0.35)"
   ]
  },
  {
   "cell_type": "code",
   "execution_count": 31,
   "metadata": {},
   "outputs": [],
   "source": []
  },
  {
   "cell_type": "code",
   "execution_count": 31,
   "metadata": {},
   "outputs": [
    {
     "name": "stdout",
     "output_type": "stream",
     "text": [
      "Test score : 0.6430742857142857\n",
      "Train score : 0.8284123076923077\n"
     ]
    }
   ],
   "source": [
    "from sklearn.ensemble import RandomForestClassifier\n",
    "\n",
    "rand = RandomForestClassifier( )\n",
    "rand.fit(x_train, y_train)\n",
    "print(f'Test score : {rand.score(x_test, y_test)}')\n",
    "print(f'Train score : {rand.score(x_train, y_train)}')"
   ]
  },
  {
   "cell_type": "code",
   "execution_count": 32,
   "metadata": {},
   "outputs": [
    {
     "name": "stdout",
     "output_type": "stream",
     "text": [
      "Test score : 0.6273028571428572\n",
      "Train score : 0.8284215384615384\n"
     ]
    }
   ],
   "source": [
    "from sklearn.tree import DecisionTreeClassifier\n",
    "\n",
    "descision = DecisionTreeClassifier()\n",
    "descision.fit(x_train, y_train)\n",
    "print(f'Test score : {descision.score(x_test, y_test)}')\n",
    "print(f'Train score : {descision.score(x_train, y_train)}')"
   ]
  },
  {
   "cell_type": "code",
   "execution_count": 33,
   "metadata": {},
   "outputs": [
    {
     "name": "stdout",
     "output_type": "stream",
     "text": [
      "Test score : 0.6984171428571428\n",
      "Train score : 0.7015092307692308\n"
     ]
    }
   ],
   "source": [
    "from xgboost import XGBClassifier\n",
    "\n",
    "\n",
    "xgm = XGBClassifier()\n",
    "xgm.fit(x_train, y_train)\n",
    "print(f'Test score : {xgm.score(x_test, y_test)}')\n",
    "print(f'Train score : {xgm.score(x_train, y_train)}')"
   ]
  },
  {
   "cell_type": "code",
   "execution_count": 34,
   "metadata": {},
   "outputs": [
    {
     "name": "stdout",
     "output_type": "stream",
     "text": [
      "Test score : 0.6985628571428572\n",
      "Train score : 0.701296923076923\n"
     ]
    }
   ],
   "source": [
    "xgm = XGBClassifier(max_depth=5, gamma=1)\n",
    "xgm.fit(x_train, y_train)\n",
    "print(f'Test score : {xgm.score(x_test, y_test)}')\n",
    "print(f'Train score : {xgm.score(x_train, y_train)}')"
   ]
  },
  {
   "cell_type": "code",
   "execution_count": 35,
   "metadata": {},
   "outputs": [],
   "source": [
    "df_1 = df.copy()"
   ]
  },
  {
   "cell_type": "code",
   "execution_count": 36,
   "metadata": {},
   "outputs": [],
   "source": [
    "df = data.copy()"
   ]
  },
  {
   "cell_type": "code",
   "execution_count": 37,
   "metadata": {},
   "outputs": [],
   "source": [
    "from sklearn.preprocessing import StandardScaler\n",
    "\n",
    "stand = StandardScaler()\n",
    "df[features] = stand.fit_transform(df[features])"
   ]
  },
  {
   "cell_type": "code",
   "execution_count": 38,
   "metadata": {},
   "outputs": [],
   "source": [
    "X_train, X_test, Y_train, Y_test = train_test_split(df[features], df[target], test_size=0.35)"
   ]
  },
  {
   "cell_type": "code",
   "execution_count": 39,
   "metadata": {},
   "outputs": [
    {
     "name": "stdout",
     "output_type": "stream",
     "text": [
      "Test score : 0.6996342857142858\n",
      "Train score : 0.70072\n"
     ]
    }
   ],
   "source": [
    "\n",
    "\n",
    "xgm.fit(X_train, Y_train)\n",
    "print(f'Test score : {xgm.score(X_test, Y_test)}')\n",
    "print(f'Train score : {xgm.score(X_train, Y_train)}')"
   ]
  },
  {
   "cell_type": "code",
   "execution_count": null,
   "metadata": {},
   "outputs": [],
   "source": []
  },
  {
   "cell_type": "code",
   "execution_count": null,
   "metadata": {},
   "outputs": [],
   "source": []
  },
  {
   "cell_type": "code",
   "execution_count": 40,
   "metadata": {},
   "outputs": [],
   "source": [
    "from sklearn.preprocessing import MinMaxScaler\n",
    "\n",
    "stand = MinMaxScaler()\n",
    "df[features] = stand.fit_transform(df[features])\n",
    "X_train, X_test, Y_train, Y_test = train_test_split(df[features], df[target], test_size=0.35)"
   ]
  },
  {
   "cell_type": "code",
   "execution_count": 41,
   "metadata": {},
   "outputs": [
    {
     "name": "stdout",
     "output_type": "stream",
     "text": [
      "Test score : 0.7002228571428571\n",
      "Train score : 0.7005061538461539\n"
     ]
    }
   ],
   "source": [
    "xgm = XGBClassifier()\n",
    "xgm.fit(X_train, Y_train)\n",
    "print(f'Test score : {xgm.score(X_test, Y_test)}')\n",
    "print(f'Train score : {xgm.score(X_train, Y_train)}')"
   ]
  }
 ],
 "metadata": {
  "kernelspec": {
   "display_name": "care",
   "language": "python",
   "name": "python3"
  },
  "language_info": {
   "codemirror_mode": {
    "name": "ipython",
    "version": 3
   },
   "file_extension": ".py",
   "mimetype": "text/x-python",
   "name": "python",
   "nbconvert_exporter": "python",
   "pygments_lexer": "ipython3",
   "version": "3.13.1"
  }
 },
 "nbformat": 4,
 "nbformat_minor": 2
}
